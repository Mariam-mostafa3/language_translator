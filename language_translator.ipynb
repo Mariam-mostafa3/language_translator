{
  "nbformat": 4,
  "nbformat_minor": 0,
  "metadata": {
    "colab": {
      "provenance": [],
      "authorship_tag": "ABX9TyPPVWGHfehAirAHgh/rEMuQ",
      "include_colab_link": true
    },
    "kernelspec": {
      "name": "python3",
      "display_name": "Python 3"
    },
    "language_info": {
      "name": "python"
    }
  },
  "cells": [
    {
      "cell_type": "markdown",
      "metadata": {
        "id": "view-in-github",
        "colab_type": "text"
      },
      "source": [
        "<a href=\"https://colab.research.google.com/github/Mariam-mostafa3/language_translator/blob/main/language_translator.ipynb\" target=\"_parent\"><img src=\"https://colab.research.google.com/assets/colab-badge.svg\" alt=\"Open In Colab\"/></a>"
      ]
    },
    {
      "cell_type": "code",
      "execution_count": 30,
      "metadata": {
        "colab": {
          "base_uri": "https://localhost:8080/"
        },
        "id": "zaOFOGNF1-s1",
        "outputId": "be534b2b-af78-454b-a86d-cfe404223ae2"
      },
      "outputs": [
        {
          "output_type": "stream",
          "name": "stdout",
          "text": [
            "Enter the text to be translated (or type 'exit' to quit): hello\n",
            "Enter the source language: en\n",
            "Enter the target language fr\n",
            "the translated text  Bonjour.\n",
            "Enter the text to be translated (or type 'exit' to quit): comment vas-tu?\n",
            "Enter the source language: fr\n",
            "Enter the target language en\n",
            "the translated text  How are you?\n",
            "Enter the text to be translated (or type 'exit' to quit): مرحبا \n",
            "Enter the source language: ar\n",
            "Enter the target language en\n",
            "the translated text  Hey.\n",
            "Enter the text to be translated (or type 'exit' to quit): Exit\n",
            "Translation ended.\n"
          ]
        }
      ],
      "source": [
        "from transformers import MarianMTModel,MarianTokenizer\n",
        "\n",
        "def translation_function(text,source_lang,target_lang):\n",
        "    model_name = f'Helsinki-NLP/opus-mt-{source_lang}-{target_lang}'\n",
        "    tokenizer = MarianTokenizer.from_pretrained(model_name)\n",
        "    model = MarianMTModel.from_pretrained(model_name)\n",
        "    token=tokenizer(text,return_tensors='pt',padding=True)\n",
        "    translation=model.generate(**token)\n",
        "    translated_text= tokenizer.decode(translation[0],skip_special_tokens=True)\n",
        "    return translated_text\n",
        "\n",
        "while True:\n",
        "    text = input(\"Enter the text to be translated (or type 'exit' to quit): \")\n",
        "    if text.lower() == 'exit':\n",
        "        print(\"Translation ended.\")\n",
        "        break\n",
        "    else:\n",
        "      source_lang=input(\"Enter the source language: \")\n",
        "      target_lang=input(\"Enter the target language \")\n",
        "      translated_text=translation_function(text,source_lang,target_lang)\n",
        "      print(\"the translated text \",translated_text)"
      ]
    }
  ]
}